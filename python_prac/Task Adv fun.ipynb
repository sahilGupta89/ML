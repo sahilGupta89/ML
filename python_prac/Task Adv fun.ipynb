{
 "cells": [
  {
   "cell_type": "code",
   "execution_count": 12,
   "metadata": {},
   "outputs": [],
   "source": [
    "# hex\n",
    "# bin\n",
    "# pow\n",
    "# abs\n",
    "# round"
   ]
  },
  {
   "cell_type": "code",
   "execution_count": 11,
   "metadata": {},
   "outputs": [],
   "source": [
    "# string\n",
    "# capitalize\n",
    "# upper\n",
    "# lower\n",
    "# count\n",
    "# center formatting\n",
    "# expandtabs\n",
    "# isalnum\n",
    "# islower\n",
    "# isspace\n",
    "# isalpha\n",
    "# isalnum\n",
    "# istitle\n",
    "# endswith\n",
    "# split\n",
    "# partition"
   ]
  },
  {
   "cell_type": "code",
   "execution_count": 29,
   "metadata": {},
   "outputs": [],
   "source": [
    "s=\" The Python interpreter and the extensive standard library \n",
    "  are available in source or binary form without charge for all major platforms, and can be freely distributedt\""
   ]
  },
  {
   "cell_type": "code",
   "execution_count": 36,
   "metadata": {},
   "outputs": [
    {
     "name": "stdout",
     "output_type": "stream",
     "text": [
      "['T', 'P', 'i', 'a', 't', 'e', 's', 'l', 'a', 'a', 'i', 's', 'o', 'b', 'f', 'w', 'c', 'f', 'a', 'm', 'p', 'a', 'c', 'b', 'f', 'd']\n"
     ]
    }
   ],
   "source": []
  },
  {
   "cell_type": "code",
   "execution_count": null,
   "metadata": {},
   "outputs": [],
   "source": []
  }
 ],
 "metadata": {
  "kernelspec": {
   "display_name": "Python 3",
   "language": "python",
   "name": "python3"
  },
  "language_info": {
   "codemirror_mode": {
    "name": "ipython",
    "version": 3
   },
   "file_extension": ".py",
   "mimetype": "text/x-python",
   "name": "python",
   "nbconvert_exporter": "python",
   "pygments_lexer": "ipython3",
   "version": "3.6.5"
  }
 },
 "nbformat": 4,
 "nbformat_minor": 2
}
