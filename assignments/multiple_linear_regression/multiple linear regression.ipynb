{
 "cells": [
  {
   "cell_type": "code",
   "execution_count": 2,
   "metadata": {},
   "outputs": [],
   "source": [
    "# Using Technology: U.S. Economy Case Study\n",
    "\n",
    "# U.S.. economic data 1976 to 1987 \n",
    "# X1 = dollars/barrel crude oil\n",
    "# X2 = % interest on ten yr. U.S. treasury notes\n",
    "# X3 = foreign investments/billions of dollars\n",
    "# X4 = Dow Jones industrial average\n",
    "# X5 = GNP/billions of dollars\n",
    "# X6 = purchasing power U.S. dollar (1983 base)\n",
    "# X7 = consumer debt/billions of dollars\n",
    "# Reference: Statistical Abstract of the United States 103rd and 109th ediiton"
   ]
  },
  {
   "cell_type": "code",
   "execution_count": 15,
   "metadata": {},
   "outputs": [],
   "source": [
    "import numpy as np\n",
    "import pandas as pd\n",
    "from sklearn.linear_model import LinearRegression\n",
    "from sklearn.metrics import mean_squared_error\n",
    "import math\n",
    "import matplotlib.pyplot as plt"
   ]
  },
  {
   "cell_type": "code",
   "execution_count": 21,
   "metadata": {},
   "outputs": [
    {
     "name": "stdout",
     "output_type": "stream",
     "text": [
      "        CRUDE   INTEREST  FOREIGN         DJIA   GNP  PURCHASE    CONSUMER\n",
      "0   10.900000   7.610000       31   974.900024  1718     1.757  234.399994\n",
      "1   12.000000   7.420000       35   894.599976  1918     1.649  263.799988\n",
      "2   12.500000   8.410000       42   820.200012  2164     1.532  308.299988\n",
      "3   17.700001   9.439999       54   844.400024  2418     1.380  347.500000\n",
      "4   28.100000  11.460000       83   891.400024  2732     1.215  349.399994\n",
      "5   35.599998  13.910000      109   932.900024  3053     1.098  366.600006\n",
      "6   31.799999  13.000000      125   884.400024  3166     1.035  381.100006\n",
      "7   29.000000  11.110000      137  1190.300049  3406     1.000  430.399994\n",
      "8   28.600000  12.440000      165  1178.500000  3772     0.961  511.799988\n",
      "9   26.799999  10.620000      185  1328.199951  4015     0.928  592.400024\n",
      "10  14.600000   7.680000      209  1792.800049  4240     0.913  646.099976\n",
      "11  17.900000   8.380000      244  2276.000000  4527     0.880  685.500000\n",
      "19.195764699454134\n",
      "0.9995349568254727\n"
     ]
    }
   ],
   "source": [
    "study_data = pd.read_excel('mlr11.xls')\n",
    "print(study_data)\n",
    "\n",
    "X1 = study_data['CRUDE']\n",
    "X2 = study_data['INTEREST']\n",
    "X3 = study_data['FOREIGN']\n",
    "X4 = study_data['DJIA']\n",
    "X5 = study_data['GNP']\n",
    "X6 = study_data['PURCHASE']\n",
    "X7 = study_data['CONSUMER']\n",
    "\n",
    "X = np.array([X1, X2, X3, X4, X6, X7]).T\n",
    "Y = np.array(X5)\n",
    "\n",
    "# Model Intialization\n",
    "reg = LinearRegression()\n",
    "# Data Fitting\n",
    "reg = reg.fit(X, Y)\n",
    "# Y Prediction\n",
    "Y_pred = reg.predict(X)\n",
    "\n",
    "# Model Evaluation\n",
    "rmse = np.sqrt(mean_squared_error(Y, Y_pred))\n",
    "r2 = reg.score(X, Y)\n",
    "\n",
    "print(rmse)\n",
    "print(r2)"
   ]
  },
  {
   "cell_type": "code",
   "execution_count": null,
   "metadata": {},
   "outputs": [],
   "source": []
  }
 ],
 "metadata": {
  "kernelspec": {
   "display_name": "Python 3",
   "language": "python",
   "name": "python3"
  },
  "language_info": {
   "codemirror_mode": {
    "name": "ipython",
    "version": 3
   },
   "file_extension": ".py",
   "mimetype": "text/x-python",
   "name": "python",
   "nbconvert_exporter": "python",
   "pygments_lexer": "ipython3",
   "version": "3.6.5"
  }
 },
 "nbformat": 4,
 "nbformat_minor": 2
}
